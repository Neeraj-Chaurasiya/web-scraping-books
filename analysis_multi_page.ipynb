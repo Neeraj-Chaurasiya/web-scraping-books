{
 "cells": [
  {
   "cell_type": "code",
   "execution_count": 9,
   "id": "8079b601",
   "metadata": {},
   "outputs": [],
   "source": [
    "# ============================= 1️⃣ Target Website & Libraries =============================\n",
    "\n",
    "import requests\n",
    "from bs4 import BeautifulSoup\n",
    "import pandas as pd\n",
    "\n",
    "# Base URL with page number placeholder\n",
    "base_url = \"https://books.toscrape.com/catalogue/page-{}.html\""
   ]
  },
  {
   "cell_type": "code",
   "execution_count": 11,
   "id": "861e85f1",
   "metadata": {},
   "outputs": [],
   "source": [
    "# ----------------------------------- Pages to Extract --------------------------------------\n",
    "pages = 8   # fixed number of pages\n",
    "\n",
    "titles = []\n",
    "prices = []\n",
    "ratings = []\n",
    "\n",
    "# ----------------------------------- Loop Through Pages ------------------------------------\n",
    "for page in range(1, pages + 1):   # loop from 1 → pages\n",
    "    url = base_url.format(page)    # format correct variable\n",
    "    response = requests.get(url)\n",
    "    soup = BeautifulSoup(response.text, \"html.parser\")\n",
    "\n",
    "    books = soup.find_all(\"article\", class_=\"product_pod\")\n",
    "\n",
    "    # Extract details from each book\n",
    "    for book in books:\n",
    "        title = book.h3.a['title']\n",
    "        price = book.find(\"p\", class_=\"price_color\").text\n",
    "        rating = book.p[\"class\"][1]\n",
    "\n",
    "        titles.append(title)\n",
    "        prices.append(price)\n",
    "        ratings.append(rating)\n",
    "\n",
    "# ----------------------------------- Save Data ----------------------------------------------\n",
    "df = pd.DataFrame({\n",
    "    \"Title\": titles,\n",
    "    \"Price\": prices,\n",
    "    \"Rating\": ratings\n",
    "})\n"
   ]
  },
  {
   "cell_type": "code",
   "execution_count": 14,
   "id": "0acfe0d3",
   "metadata": {},
   "outputs": [
    {
     "name": "stdout",
     "output_type": "stream",
     "text": [
      " Saved multi-page data (Title + Price) → books_multi_page.csv\n"
     ]
    }
   ],
   "source": [
    "# =============================  Store Data in CSV (Basic) =============================\n",
    "\n",
    "df_basic = pd.DataFrame({\"Title\": titles, \"Price\": prices})\n",
    "df_basic.to_csv(\"books_multi_page.csv\", index=False)\n",
    "print(\" Saved multi-page data (Title + Price) → books_multi_page.csv\")"
   ]
  },
  {
   "cell_type": "code",
   "execution_count": 15,
   "id": "9bbfb029",
   "metadata": {},
   "outputs": [
    {
     "name": "stdout",
     "output_type": "stream",
     "text": [
      " Saved multi-page data (Title + Price + Rating) → books_full.csv\n"
     ]
    }
   ],
   "source": [
    "# =============================  Practice Task: Store Full Data =============================\n",
    "\n",
    "df_full = pd.DataFrame({\"Title\": titles, \"Price\": prices, \"Rating\": ratings})\n",
    "df_full.to_csv(\"books_full.csv\", index=False)\n",
    "print(\" Saved multi-page data (Title + Price + Rating) → books_full.csv\")\n"
   ]
  },
  {
   "cell_type": "code",
   "execution_count": 16,
   "id": "8f123120",
   "metadata": {},
   "outputs": [
    {
     "name": "stdout",
     "output_type": "stream",
     "text": [
      "\n",
      "🔎 Preview of Scraped Data:\n",
      "                                   Title    Price Rating\n",
      "0                   A Light in the Attic  Â£51.77  Three\n",
      "1                     Tipping the Velvet  Â£53.74    One\n",
      "2                             Soumission  Â£50.10    One\n",
      "3                          Sharp Objects  Â£47.82   Four\n",
      "4  Sapiens: A Brief History of Humankind  Â£54.23   Five\n"
     ]
    }
   ],
   "source": [
    "\n",
    "# ============================= 5️⃣ Quick Preview =============================\n",
    "\n",
    "print(\"\\n🔎 Preview of Scraped Data:\")\n",
    "print(df_full.head())"
   ]
  }
 ],
 "metadata": {
  "kernelspec": {
   "display_name": "Python 3",
   "language": "python",
   "name": "python3"
  },
  "language_info": {
   "codemirror_mode": {
    "name": "ipython",
    "version": 3
   },
   "file_extension": ".py",
   "mimetype": "text/x-python",
   "name": "python",
   "nbconvert_exporter": "python",
   "pygments_lexer": "ipython3",
   "version": "3.11.9"
  }
 },
 "nbformat": 4,
 "nbformat_minor": 5
}
