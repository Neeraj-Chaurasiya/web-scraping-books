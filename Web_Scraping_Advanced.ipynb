{
 "cells": [
  {
   "cell_type": "code",
   "execution_count": 1,
   "id": "8079b601",
   "metadata": {},
   "outputs": [],
   "source": [
    "# ============================= 1️⃣ Target Website & Libraries =============================\n",
    "\n",
    "import requests\n",
    "from bs4 import BeautifulSoup\n",
    "import pandas as pd\n",
    "\n",
    "# Base URL with page number placeholder\n",
    "base_url = \"https://books.toscrape.com/catalogue/page-{}.html\""
   ]
  },
  {
   "cell_type": "code",
   "execution_count": null,
   "id": "3410e02f",
   "metadata": {},
   "outputs": [],
   "source": [
    "# ============================= 2️⃣ Loop Through Multiple Pages =============================\n",
    "\n",
    "titles, prices, ratings = [], [], []\n",
    "\n",
    "pages = 8\n",
    "\n",
    "for page in range(pages):   # loop from 1 → pages\n",
    "    url = base_url.format(page)\n",
    "    response = requests.get(url)\n",
    "    soup = BeautifulSoup(response.text, \"html.parser\")\n",
    "\n",
    "    # Find all book containers\n",
    "    books = soup.find_all(\"article\", class_=\"product_pod\")\n",
    "\n",
    "    # Extract details from each book\n",
    "    for book in books:\n",
    "        title = book.h3.a['title']\n",
    "        price = book.find(\"p\", class_=\"price_color\").text\n",
    "        rating = book.p[\"class\"][1]\n",
    "\n",
    "        titles.append(title)\n",
    "        prices.append(price)\n",
    "        ratings.append(rating)"
   ]
  }
 ],
 "metadata": {
  "kernelspec": {
   "display_name": "Python 3",
   "language": "python",
   "name": "python3"
  },
  "language_info": {
   "codemirror_mode": {
    "name": "ipython",
    "version": 3
   },
   "file_extension": ".py",
   "mimetype": "text/x-python",
   "name": "python",
   "nbconvert_exporter": "python",
   "pygments_lexer": "ipython3",
   "version": "3.11.9"
  }
 },
 "nbformat": 4,
 "nbformat_minor": 5
}
