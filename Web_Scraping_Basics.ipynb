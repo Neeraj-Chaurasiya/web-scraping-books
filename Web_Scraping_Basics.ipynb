{
 "cells": [
  {
   "cell_type": "code",
   "execution_count": 1,
   "id": "5198adbb",
   "metadata": {},
   "outputs": [],
   "source": [
    "# =============================  Libraries Install & Import =============================\n",
    "\n",
    "import requests \n",
    "from bs4 import BeautifulSoup\n",
    "import pandas as pd\n"
   ]
  },
  {
   "cell_type": "code",
   "execution_count": null,
   "id": "d0a9a16e",
   "metadata": {},
   "outputs": [
    {
     "name": "stdout",
     "output_type": "stream",
     "text": [
      "Status Code: 200\n"
     ]
    }
   ],
   "source": [
    "# =============================  Simple Web Request =============================\n",
    "\n",
    "url = \"https://books.toscrape.com/\"\n",
    "response = requests.get(url)\n",
    "\n",
    "# Check status\n",
    "print(\"Status Code:\", response.status_code)"
   ]
  },
  {
   "cell_type": "code",
   "execution_count": 3,
   "id": "6d67c7f4",
   "metadata": {},
   "outputs": [
    {
     "name": "stdout",
     "output_type": "stream",
     "text": [
      "Page Title: \n",
      "    All products | Books to Scrape - Sandbox\n",
      "\n"
     ]
    }
   ],
   "source": [
    "# =============================  Parse HTML with BeautifulSoup =============================\n",
    "\n",
    "soup = BeautifulSoup(response.text, \"html.parser\")\n",
    "print(\"Page Title:\", soup.title.text)"
   ]
  },
  {
   "cell_type": "code",
   "execution_count": 4,
   "id": "74c02d70",
   "metadata": {},
   "outputs": [
    {
     "name": "stdout",
     "output_type": "stream",
     "text": [
      " Saved book titles to books_titles.csv\n"
     ]
    }
   ],
   "source": [
    "# =============================  Extract Book Titles (h3 tags) =============================\n",
    "\n",
    "books = soup.find_all(\"h3\")\n",
    "titles = [book.a[\"title\"] for book in books]\n",
    "\n",
    "df_titles = pd.DataFrame({\"Book Title\": titles})\n",
    "df_titles.to_csv(\"books_titles.csv\", index=False)\n",
    "print(\" Saved book titles to books_titles.csv\")"
   ]
  },
  {
   "cell_type": "code",
   "execution_count": 5,
   "id": "4f38212a",
   "metadata": {},
   "outputs": [
    {
     "name": "stdout",
     "output_type": "stream",
     "text": [
      " Saved detailed data to books_price_rating.csv\n"
     ]
    }
   ],
   "source": [
    "# ============================= 5️⃣ Practice Task: Extract Title, Price & Rating =============================\n",
    "\n",
    "books = soup.find_all(\"article\", class_=\"product_pod\")\n",
    "\n",
    "titles, prices, ratings = [], [], []\n",
    "\n",
    "for book in books:\n",
    "    title = book.h3.a[\"title\"]\n",
    "    price = book.find(\"p\", class_=\"price_color\").text\n",
    "    rating = book.p[\"class\"][1]   # second class = rating\n",
    "\n",
    "    titles.append(title)\n",
    "    prices.append(price)\n",
    "    ratings.append(rating)\n",
    "\n",
    "# Create DataFrame\n",
    "df_books = pd.DataFrame({\n",
    "    \"Title\": titles,\n",
    "    \"Price\": prices,\n",
    "    \"Rating\": ratings\n",
    "})\n",
    "\n",
    "df_books.to_csv(\"books_price_rating.csv\", index=False)\n",
    "print(\" Saved detailed data to books_price_rating.csv\")"
   ]
  },
  {
   "cell_type": "code",
   "execution_count": 6,
   "id": "0ea9e457",
   "metadata": {},
   "outputs": [
    {
     "name": "stdout",
     "output_type": "stream",
     "text": [
      "                                   Title    Price Rating\n",
      "0                   A Light in the Attic  Â£51.77  Three\n",
      "1                     Tipping the Velvet  Â£53.74    One\n",
      "2                             Soumission  Â£50.10    One\n",
      "3                          Sharp Objects  Â£47.82   Four\n",
      "4  Sapiens: A Brief History of Humankind  Â£54.23   Five\n"
     ]
    }
   ],
   "source": [
    "# =============================  Preview Data =============================\n",
    "\n",
    "print(df_books.head())"
   ]
  }
 ],
 "metadata": {
  "kernelspec": {
   "display_name": "Python 3",
   "language": "python",
   "name": "python3"
  },
  "language_info": {
   "codemirror_mode": {
    "name": "ipython",
    "version": 3
   },
   "file_extension": ".py",
   "mimetype": "text/x-python",
   "name": "python",
   "nbconvert_exporter": "python",
   "pygments_lexer": "ipython3",
   "version": "3.11.9"
  }
 },
 "nbformat": 4,
 "nbformat_minor": 5
}
